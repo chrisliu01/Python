{
  "nbformat": 4,
  "nbformat_minor": 0,
  "metadata": {
    "colab": {
      "name": "python-basic-data-type.ipynb",
      "version": "0.3.2",
      "provenance": [],
      "collapsed_sections": [],
      "include_colab_link": true
    },
    "kernelspec": {
      "name": "python3",
      "display_name": "Python 3"
    }
  },
  "cells": [
    {
      "cell_type": "markdown",
      "metadata": {
        "id": "view-in-github",
        "colab_type": "text"
      },
      "source": [
        "<a href=\"https://colab.research.google.com/github/chrisliu01/Python/blob/master/python_tutorial_2.ipynb\" target=\"_parent\"><img src=\"https://colab.research.google.com/assets/colab-badge.svg\" alt=\"Open In Colab\"/></a>"
      ]
    },
    {
      "metadata": {
        "id": "NTpgrXEz4623",
        "colab_type": "text"
      },
      "cell_type": "markdown",
      "source": [
        "# **Python Collections (Arrays)**\n",
        "There are four collection data types in the Python programming language:\n",
        "\n",
        "\n",
        "List is a collection which is ordered and changeable. Allows duplicate members.\n",
        "\n",
        "Tuple is a collection which is ordered and unchangeable. Allows duplicate members.\n",
        "\n",
        "Set is a collection which is unordered and unindexed. No duplicate members.\n",
        "\n",
        "Dictionary is a collection which is unordered, changeable and indexed. No duplicate members.\n",
        "\n",
        "When choosing a collection type, it is useful to understand the properties of that type. Choosing the right type for a particular data set could mean retention of meaning, and, it could mean an increase in efficiency or security.\n",
        "\n",
        "\n",
        "**List**\n",
        "\n",
        "A list is a collection which is ordered and changeable. In Python lists are written with square brackets.\n",
        "\n"
      ]
    },
    {
      "metadata": {
        "id": "qRPT5NNj5CMd",
        "colab_type": "code",
        "colab": {}
      },
      "cell_type": "code",
      "source": [
        "thislist = [\"apple\", \"banana\", \"cherry\"]\n",
        "print(thislist)"
      ],
      "execution_count": 0,
      "outputs": []
    },
    {
      "metadata": {
        "id": "4wzs2ANP7in9",
        "colab_type": "text"
      },
      "cell_type": "markdown",
      "source": [
        "**Access Items**\n",
        "\n",
        "You access the list items by referring to the index number:\n"
      ]
    },
    {
      "metadata": {
        "id": "RzUf7o_97otl",
        "colab_type": "code",
        "outputId": "f34c3748-1acb-4d7f-ee89-ea54cfefccef",
        "colab": {
          "base_uri": "https://localhost:8080/",
          "height": 35
        }
      },
      "cell_type": "code",
      "source": [
        "thislist = [\"apple\", \"banana\", \"cherry\"]\n",
        "print(thislist[1])"
      ],
      "execution_count": 0,
      "outputs": [
        {
          "output_type": "execute_result",
          "data": {
            "text/plain": [
              "'Freddie'"
            ]
          },
          "metadata": {
            "tags": []
          },
          "execution_count": 2
        }
      ]
    },
    {
      "metadata": {
        "id": "3hQf3HA9aQQ2",
        "colab_type": "text"
      },
      "cell_type": "markdown",
      "source": [
        "**Change Item Value**\n",
        "\n",
        "To change the value of a specific item, refer to the index number:\n"
      ]
    },
    {
      "metadata": {
        "id": "Q_WLV7Ua7zyd",
        "colab_type": "code",
        "outputId": "1a994bbc-b8c4-4a6e-a07a-3be8bfc255ca",
        "colab": {
          "base_uri": "https://localhost:8080/",
          "height": 35
        }
      },
      "cell_type": "code",
      "source": [
        "thislist = [\"apple\", \"banana\", \"cherry\"]\n",
        "thislist[1] = \"blackcurrant\"\n",
        "print(thislist)"
      ],
      "execution_count": 0,
      "outputs": [
        {
          "output_type": "execute_result",
          "data": {
            "text/plain": [
              "9"
            ]
          },
          "metadata": {
            "tags": []
          },
          "execution_count": 3
        }
      ]
    },
    {
      "metadata": {
        "id": "F1JncQa1771t",
        "colab_type": "text"
      },
      "cell_type": "markdown",
      "source": [
        "**Loop Through a List**\n",
        "\n",
        "You can loop through the list items by using a for loop:\n"
      ]
    },
    {
      "metadata": {
        "id": "blRNVueg8HRN",
        "colab_type": "code",
        "colab": {}
      },
      "cell_type": "code",
      "source": [
        "thislist = [\"apple\", \"banana\", \"cherry\"]\n",
        "for x in thislist:\n",
        "  print(x)"
      ],
      "execution_count": 0,
      "outputs": []
    },
    {
      "metadata": {
        "id": "5b4VtE_N8K59",
        "colab_type": "code",
        "outputId": "4b349b31-78e8-4d9a-c108-de850c6992bb",
        "colab": {
          "base_uri": "https://localhost:8080/",
          "height": 35
        }
      },
      "cell_type": "code",
      "source": [
        "dog_name"
      ],
      "execution_count": 0,
      "outputs": [
        {
          "output_type": "execute_result",
          "data": {
            "text/plain": [
              "'Eddie'"
            ]
          },
          "metadata": {
            "tags": []
          },
          "execution_count": 5
        }
      ]
    },
    {
      "metadata": {
        "id": "rBGnIlC_8bgV",
        "colab_type": "text"
      },
      "cell_type": "markdown",
      "source": [
        "**Check if Item Exists**\n",
        "\n",
        "To determine if a specified item is present in a list use the in keyword:\n"
      ]
    },
    {
      "metadata": {
        "id": "BJfxDoXL8jId",
        "colab_type": "code",
        "colab": {}
      },
      "cell_type": "code",
      "source": [
        "a = 3\n",
        "b = 4thislist = [\"apple\", \"banana\", \"cherry\"]\n",
        "if \"apple\" in thislist:\n",
        "  print(\"Yes, 'apple' is in the fruits list\")"
      ],
      "execution_count": 0,
      "outputs": []
    },
    {
      "metadata": {
        "id": "MIXardVZ89o9",
        "colab_type": "text"
      },
      "cell_type": "markdown",
      "source": [
        "**Add Items**\n",
        "\n",
        "To add an item to the end of the list, use the append() method:\n",
        "\n"
      ]
    },
    {
      "metadata": {
        "id": "keN1lv-A9Dku",
        "colab_type": "code",
        "outputId": "0098179d-551d-4f64-e44f-fad7eef3e3c6",
        "colab": {
          "base_uri": "https://localhost:8080/",
          "height": 35
        }
      },
      "cell_type": "code",
      "source": [
        "thislist = [\"apple\", \"banana\", \"cherry\"]\n",
        "thislist.append(\"orange\")\n",
        "print(thislist)"
      ],
      "execution_count": 0,
      "outputs": [
        {
          "output_type": "execute_result",
          "data": {
            "text/plain": [
              "7"
            ]
          },
          "metadata": {
            "tags": []
          },
          "execution_count": 7
        }
      ]
    },
    {
      "metadata": {
        "id": "F4v-Aadra-fr",
        "colab_type": "text"
      },
      "cell_type": "markdown",
      "source": [
        "To add an item at the specified index, use the insert() method:"
      ]
    },
    {
      "metadata": {
        "id": "94cFM92G9HL9",
        "colab_type": "code",
        "outputId": "62bdfee5-42da-45c7-b4ac-df4d76246967",
        "colab": {
          "base_uri": "https://localhost:8080/",
          "height": 35
        }
      },
      "cell_type": "code",
      "source": [
        "thislist = [\"apple\", \"banana\", \"cherry\"]\n",
        "thislist.insert(1, \"orange\")\n",
        "print(thislist)"
      ],
      "execution_count": 0,
      "outputs": [
        {
          "output_type": "execute_result",
          "data": {
            "text/plain": [
              "-1"
            ]
          },
          "metadata": {
            "tags": []
          },
          "execution_count": 8
        }
      ]
    },
    {
      "metadata": {
        "id": "kh0LuRulbIHl",
        "colab_type": "text"
      },
      "cell_type": "markdown",
      "source": [
        "**Remove Item**\n",
        "\n",
        "There are several methods to remove items from a list:\n"
      ]
    },
    {
      "metadata": {
        "id": "teVaQE7b9NKt",
        "colab_type": "code",
        "outputId": "a4f3e0f2-e703-4288-aa5a-2feaac534272",
        "colab": {
          "base_uri": "https://localhost:8080/",
          "height": 35
        }
      },
      "cell_type": "code",
      "source": [
        "thislist = [\"apple\", \"banana\", \"cherry\"]\n",
        "thislist.remove(\"banana\")\n",
        "print(thislist)"
      ],
      "execution_count": 0,
      "outputs": [
        {
          "output_type": "execute_result",
          "data": {
            "text/plain": [
              "12"
            ]
          },
          "metadata": {
            "tags": []
          },
          "execution_count": 9
        }
      ]
    },
    {
      "metadata": {
        "id": "3MTx2SDgbXef",
        "colab_type": "text"
      },
      "cell_type": "markdown",
      "source": [
        "# **Exercise:**\n",
        "\n",
        "Print the second item in the fruits list."
      ]
    },
    {
      "metadata": {
        "id": "K4S8a74E9Obd",
        "colab_type": "code",
        "outputId": "ea5b412c-98af-41a9-c1a2-910529715341",
        "colab": {
          "base_uri": "https://localhost:8080/",
          "height": 35
        }
      },
      "cell_type": "code",
      "source": [
        "fruits = [\"apple\", \"banana\", \"cherry\"]\n",
        "print(?????)"
      ],
      "execution_count": 0,
      "outputs": [
        {
          "output_type": "execute_result",
          "data": {
            "text/plain": [
              "0.75"
            ]
          },
          "metadata": {
            "tags": []
          },
          "execution_count": 10
        }
      ]
    },
    {
      "metadata": {
        "id": "bJ8fiCE0-ig3",
        "colab_type": "code",
        "colab": {}
      },
      "cell_type": "code",
      "source": [
        ""
      ],
      "execution_count": 0,
      "outputs": []
    }
  ]
}