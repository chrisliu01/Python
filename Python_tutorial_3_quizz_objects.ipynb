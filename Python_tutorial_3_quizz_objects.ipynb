{
  "nbformat": 4,
  "nbformat_minor": 0,
  "metadata": {
    "colab": {
      "name": "3.4_notebook_quizz_objects.ipynb",
      "version": "0.3.2",
      "provenance": [],
      "include_colab_link": true
    },
    "kernelspec": {
      "display_name": "Python 3",
      "language": "python",
      "name": "python3"
    }
  },
  "cells": [
    {
      "cell_type": "markdown",
      "metadata": {
        "id": "view-in-github",
        "colab_type": "text"
      },
      "source": [
        "<a href=\"https://colab.research.google.com/github/chrisliu01/Python/blob/master/Python_tutorial_3_quizz_objects.ipynb\" target=\"_parent\"><img src=\"https://colab.research.google.com/assets/colab-badge.svg\" alt=\"Open In Colab\"/></a>"
      ]
    },
    {
      "metadata": {
        "id": "ouIToyo0yBy9",
        "colab_type": "text"
      },
      "cell_type": "markdown",
      "source": [
        "You will need the class Student for the this exercise. The class Student has three data attributes: banner_id, name, age and courses. The method <code> student_info() </code>  prints out the data attributes and the method <code>register_course()</code> will add certain course in courses. "
      ]
    },
    {
      "metadata": {
        "id": "wcUGCQyryBy-",
        "colab_type": "code",
        "colab": {}
      },
      "cell_type": "code",
      "source": [
        "class Car(object):\n",
        "    def __init__(self,make,model,color):\n",
        "        self.make=make;\n",
        "        self.model=model;\n",
        "        self.color=color;\n",
        "        self.owner_number=0 \n",
        "    def car_info(self):\n",
        "        print(\"make: \",self.make)\n",
        "        print(\"model:\", self.model)\n",
        "        print(\"color:\",self.color)\n",
        "        print(\"number of owners:\",self.owner_number)\n",
        "    def sell(self):\n",
        "        self.owner_number=self.owner_number+1"
      ],
      "execution_count": 0,
      "outputs": []
    },
    {
      "metadata": {
        "id": "czemce60yBzB",
        "colab_type": "text"
      },
      "cell_type": "markdown",
      "source": [
        "<h3> Create a Student Class and Initilize a student object </h3>"
      ]
    },
    {
      "metadata": {
        "id": "s_JsX1P5yBzC",
        "colab_type": "text"
      },
      "cell_type": "markdown",
      "source": [
        "Create a <code> Student </code> class with object a_student with the given data attributes: "
      ]
    },
    {
      "metadata": {
        "id": "6G6DzJ3lyBzD",
        "colab_type": "code",
        "colab": {}
      },
      "cell_type": "code",
      "source": [
        "banner_id=\"B001234567\"\n",
        "name=\"Jayden\"\n",
        "age=20\n",
        "courses=['csci2133','csci2121','csci4140']\n"
      ],
      "execution_count": 0,
      "outputs": []
    },
    {
      "metadata": {
        "id": "RCowN3U5yBzH",
        "colab_type": "text"
      },
      "cell_type": "markdown",
      "source": [
        "<h3> Data Attributes </h3>"
      ]
    },
    {
      "metadata": {
        "id": "PAGCQ5W-yBzI",
        "colab_type": "text"
      },
      "cell_type": "markdown",
      "source": [
        "Use the method student_info() to print out the data attributes"
      ]
    },
    {
      "metadata": {
        "id": "fAZUxDA4yBzJ",
        "colab_type": "code",
        "colab": {}
      },
      "cell_type": "code",
      "source": [
        ""
      ],
      "execution_count": 0,
      "outputs": []
    },
    {
      "metadata": {
        "id": "Gsvi5yZ2yBzL",
        "colab_type": "text"
      },
      "cell_type": "markdown",
      "source": [
        "<h3> Methods  </h3>"
      ]
    },
    {
      "metadata": {
        "id": "9qz9vVUFyBzM",
        "colab_type": "text"
      },
      "cell_type": "markdown",
      "source": [
        "Call the method <code> register_course() </code>, then call the method <code> student_info()</code> to display student info."
      ]
    },
    {
      "metadata": {
        "id": "H-vxTd1AyBzN",
        "colab_type": "code",
        "colab": {}
      },
      "cell_type": "code",
      "source": [
        "\n",
        "    \n"
      ],
      "execution_count": 0,
      "outputs": []
    }
  ]
}