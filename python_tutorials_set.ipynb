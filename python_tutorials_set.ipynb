{
  "nbformat": 4,
  "nbformat_minor": 0,
  "metadata": {
    "colab": {
      "name": "python-tutorials-set.ipynb",
      "version": "0.3.2",
      "provenance": [],
      "collapsed_sections": [],
      "include_colab_link": true
    },
    "kernelspec": {
      "display_name": "Python 3",
      "language": "python",
      "name": "python3"
    }
  },
  "cells": [
    {
      "cell_type": "markdown",
      "metadata": {
        "id": "view-in-github",
        "colab_type": "text"
      },
      "source": [
        "<a href=\"https://colab.research.google.com/github/chrisliu01/Python/blob/master/python_tutorials_set.ipynb\" target=\"_parent\"><img src=\"https://colab.research.google.com/assets/colab-badge.svg\" alt=\"Open In Colab\"/></a>"
      ]
    },
    {
      "metadata": {
        "id": "JNFBFE5Z4CwH",
        "colab_type": "text"
      },
      "cell_type": "markdown",
      "source": [
        "<h1>Sets in Python</h1>"
      ]
    },
    {
      "metadata": {
        "id": "SWcD_vdg4CwJ",
        "colab_type": "text"
      },
      "cell_type": "markdown",
      "source": [
        "<h2>Table of Contents</h2>\n",
        "<div class=\"alert alert-block alert-info\" style=\"margin-top: 20px\">\n",
        "    <ul>\n",
        "        <li>\n",
        "            <a href=\"#set\">Sets</a>\n",
        "            <ul>\n",
        "                <li><a href=\"content\">Set Content</a></li>\n",
        "                <li><a href=\"op\">Set Operations</a></li>\n",
        "                <li><a href=\"logic\">Sets Logic Operations</a></li>\n",
        "            </ul>\n",
        "        </li>\n",
        "        <li>\n",
        "            <a href=\"#quiz\">Quiz on Sets</a>\n",
        "        </li>\n",
        "    </ul>\n",
        "</div>\n",
        "\n",
        "<hr>"
      ]
    },
    {
      "metadata": {
        "id": "P9cyUmcW4CwK",
        "colab_type": "text"
      },
      "cell_type": "markdown",
      "source": [
        "<h2 id=\"set\">Sets</h2>"
      ]
    },
    {
      "metadata": {
        "id": "azDhMMnN4CwL",
        "colab_type": "text"
      },
      "cell_type": "markdown",
      "source": [
        "<h3 id=\"content\">Set Content</h3>"
      ]
    },
    {
      "metadata": {
        "id": "izJ7tx9W4CwM",
        "colab_type": "text"
      },
      "cell_type": "markdown",
      "source": [
        "A set is a unique collection of objects in Python. You can denote a set with a curly bracket <b>{}</b>. Python will automatically remove duplicate items:"
      ]
    },
    {
      "metadata": {
        "id": "-4VXpBk74CwN",
        "colab_type": "code",
        "colab": {}
      },
      "cell_type": "code",
      "source": [
        "# Create a set\n",
        "\n",
        "set1 = {\"pop\", \"rock\", \"soul\", \"hard rock\", \"rock\", \"R&B\", \"rock\", \"disco\"}\n",
        "set1"
      ],
      "execution_count": 0,
      "outputs": []
    },
    {
      "metadata": {
        "id": "hir2q3px4CwR",
        "colab_type": "text"
      },
      "cell_type": "markdown",
      "source": [
        "The process of mapping is illustrated in the figure:"
      ]
    },
    {
      "metadata": {
        "id": "q_M4emEZ4CwS",
        "colab_type": "text"
      },
      "cell_type": "markdown",
      "source": [
        "<img src=\"https://s3-api.us-geo.objectstorage.softlayer.net/cf-courses-data/CognitiveClass/PY0101EN/Chapter%202/Images/SetsUnique.png\" width=\"1100\" />"
      ]
    },
    {
      "metadata": {
        "id": "oJIbBWql4CwT",
        "colab_type": "text"
      },
      "cell_type": "markdown",
      "source": [
        " You can also  create a set from a list as follows:"
      ]
    },
    {
      "metadata": {
        "scrolled": true,
        "id": "ZGKcS8wi4CwU",
        "colab_type": "code",
        "colab": {}
      },
      "cell_type": "code",
      "source": [
        "# Convert list to set\n",
        "\n",
        "album_list = [ \"Michael Jackson\", \"Thriller\", 1982, \"00:42:19\", \\\n",
        "              \"Pop, Rock, R&B\", 46.0, 65, \"30-Nov-82\", None, 10.0]\n",
        "album_set = set(album_list)             \n",
        "album_set"
      ],
      "execution_count": 0,
      "outputs": []
    },
    {
      "metadata": {
        "id": "AuoBMSsD4CwW",
        "colab_type": "text"
      },
      "cell_type": "markdown",
      "source": [
        "Now let us create a set of  genres:"
      ]
    },
    {
      "metadata": {
        "id": "RX1Ed0Q54CwX",
        "colab_type": "code",
        "colab": {}
      },
      "cell_type": "code",
      "source": [
        "# Convert list to set\n",
        "\n",
        "music_genres = set([\"pop\", \"pop\", \"rock\", \"folk rock\", \"hard rock\", \"soul\", \\\n",
        "                    \"progressive rock\", \"soft rock\", \"R&B\", \"disco\"])\n",
        "music_genres"
      ],
      "execution_count": 0,
      "outputs": []
    },
    {
      "metadata": {
        "id": "Bbmr2to34Cwc",
        "colab_type": "text"
      },
      "cell_type": "markdown",
      "source": [
        "<h3 id=\"op\">Set Operations</h3> "
      ]
    },
    {
      "metadata": {
        "id": "AeTupQGo4Cwd",
        "colab_type": "text"
      },
      "cell_type": "markdown",
      "source": [
        "Let us go over set operations, as these can be used to change the set. Consider the set <b>A</b>:"
      ]
    },
    {
      "metadata": {
        "id": "vk350JYX4Cwe",
        "colab_type": "code",
        "colab": {}
      },
      "cell_type": "code",
      "source": [
        "# Sample set\n",
        "\n",
        "A = set([\"Thriller\", \"Back in Black\", \"AC/DC\"])\n",
        "A"
      ],
      "execution_count": 0,
      "outputs": []
    },
    {
      "metadata": {
        "id": "Q28h_uo64Cwh",
        "colab_type": "text"
      },
      "cell_type": "markdown",
      "source": [
        " We can add an element to a set using the <code>add()</code> method: "
      ]
    },
    {
      "metadata": {
        "id": "oQuifHR24Cwi",
        "colab_type": "code",
        "colab": {}
      },
      "cell_type": "code",
      "source": [
        "# Add element to set\n",
        "\n",
        "A.add(\"NSYNC\")\n",
        "A"
      ],
      "execution_count": 0,
      "outputs": []
    },
    {
      "metadata": {
        "id": "UEjIbW924Cwl",
        "colab_type": "text"
      },
      "cell_type": "markdown",
      "source": [
        " If we add the same element twice, nothing will happen as there can be no duplicates in a set:\n"
      ]
    },
    {
      "metadata": {
        "id": "P2YCvFpr4Cwm",
        "colab_type": "code",
        "colab": {}
      },
      "cell_type": "code",
      "source": [
        "# Try to add duplicate element to the set\n",
        "\n",
        "A.add(\"NSYNC\")\n",
        "A"
      ],
      "execution_count": 0,
      "outputs": []
    },
    {
      "metadata": {
        "id": "lh3cwvfq4Cwo",
        "colab_type": "text"
      },
      "cell_type": "markdown",
      "source": [
        " We can remove an item from a set using the <code>remove</code> method:"
      ]
    },
    {
      "metadata": {
        "id": "218ZUi6J4Cwp",
        "colab_type": "code",
        "colab": {}
      },
      "cell_type": "code",
      "source": [
        "# Remove the element from set\n",
        "\n",
        "A.remove(\"NSYNC\")\n",
        "A"
      ],
      "execution_count": 0,
      "outputs": []
    },
    {
      "metadata": {
        "id": "nSBZ0Gea4Cws",
        "colab_type": "text"
      },
      "cell_type": "markdown",
      "source": [
        " We can verify if an element is in the set using the <code>in</code> command:"
      ]
    },
    {
      "metadata": {
        "id": "onEu8q3R4Cwv",
        "colab_type": "code",
        "colab": {}
      },
      "cell_type": "code",
      "source": [
        "# Verify if the element is in the set\n",
        "\n",
        "\"AC/DC\" in A"
      ],
      "execution_count": 0,
      "outputs": []
    },
    {
      "metadata": {
        "id": "3BDPNhG34Cwy",
        "colab_type": "text"
      },
      "cell_type": "markdown",
      "source": [
        "<h3 id=\"logic\">Sets Logic Operations</h3>"
      ]
    },
    {
      "metadata": {
        "id": "2UM30IlR4Cwz",
        "colab_type": "text"
      },
      "cell_type": "markdown",
      "source": [
        "Remember that with sets you can check the difference between sets, as well as the symmetric difference, intersection, and union:"
      ]
    },
    {
      "metadata": {
        "id": "qFLUU_VV4Cw0",
        "colab_type": "text"
      },
      "cell_type": "markdown",
      "source": [
        " Consider the following two sets:"
      ]
    },
    {
      "metadata": {
        "id": "XjJfs8PC4Cw0",
        "colab_type": "code",
        "colab": {}
      },
      "cell_type": "code",
      "source": [
        "# Sample Sets\n",
        "\n",
        "album_set1 = set([\"Thriller\", 'AC/DC', 'Back in Black'])\n",
        "album_set2 = set([ \"AC/DC\", \"Back in Black\", \"The Dark Side of the Moon\"])"
      ],
      "execution_count": 0,
      "outputs": []
    },
    {
      "metadata": {
        "id": "lQhK-oDr4Cw3",
        "colab_type": "text"
      },
      "cell_type": "markdown",
      "source": [
        "<img src=\"https://s3-api.us-geo.objectstorage.softlayer.net/cf-courses-data/CognitiveClass/PY0101EN/Chapter%202/Images/SetsSamples.png\" width=\"650\" />"
      ]
    },
    {
      "metadata": {
        "scrolled": true,
        "id": "0rE0-Cxa4Cw3",
        "colab_type": "code",
        "colab": {}
      },
      "cell_type": "code",
      "source": [
        "# Print two sets\n",
        "\n",
        "album_set1, album_set2"
      ],
      "execution_count": 0,
      "outputs": []
    },
    {
      "metadata": {
        "id": "Qda16kBX4Cw7",
        "colab_type": "text"
      },
      "cell_type": "markdown",
      "source": [
        "As both sets contain <b>AC/DC</b> and <b>Back in Black</b> we represent these common elements with the intersection of two circles."
      ]
    },
    {
      "metadata": {
        "id": "kU_KbLuu4Cw8",
        "colab_type": "text"
      },
      "cell_type": "markdown",
      "source": [
        "<img src = \"https://s3-api.us-geo.objectstorage.softlayer.net/cf-courses-data/CognitiveClass/PY0101EN/Chapter%202/Images/SetsLogic.png\"  />"
      ]
    },
    {
      "metadata": {
        "id": "Obc2erdx4Cw8",
        "colab_type": "text"
      },
      "cell_type": "markdown",
      "source": [
        "You can find the intersect of two sets as follow using <code>&</code>:"
      ]
    },
    {
      "metadata": {
        "id": "lsIzmp764Cw9",
        "colab_type": "code",
        "colab": {}
      },
      "cell_type": "code",
      "source": [
        "# Find the intersections\n",
        "\n",
        "intersection = album_set1 & album_set2\n",
        "intersection"
      ],
      "execution_count": 0,
      "outputs": []
    },
    {
      "metadata": {
        "id": "KQP8H75z4CxA",
        "colab_type": "text"
      },
      "cell_type": "markdown",
      "source": [
        "You can find all the elements that are only contained in <code>album_set1</code> using the <code>difference</code> method:"
      ]
    },
    {
      "metadata": {
        "id": "uL07EFbi4CxC",
        "colab_type": "code",
        "colab": {}
      },
      "cell_type": "code",
      "source": [
        "# Find the difference in set1 but not set2\n",
        "\n",
        "album_set1.difference(album_set2)  "
      ],
      "execution_count": 0,
      "outputs": []
    },
    {
      "metadata": {
        "id": "BqwJsEMV4CxG",
        "colab_type": "text"
      },
      "cell_type": "markdown",
      "source": [
        "You only need to consider elements in <code>album_set1</code>; all the elements in <code>album_set2</code>, including the intersection, are not included."
      ]
    },
    {
      "metadata": {
        "id": "XHcd8ONZ4CxJ",
        "colab_type": "text"
      },
      "cell_type": "markdown",
      "source": [
        "<img src=\"https://s3-api.us-geo.objectstorage.softlayer.net/cf-courses-data/CognitiveClass/PY0101EN/Chapter%202/Images/SetsLeft.png\" width=\"650\" />"
      ]
    },
    {
      "metadata": {
        "id": "vltexd2m4CxK",
        "colab_type": "text"
      },
      "cell_type": "markdown",
      "source": [
        "The elements in <code>album_set2</code> but not in <code>album_set1</code> is given by:"
      ]
    },
    {
      "metadata": {
        "id": "UL-8zTJU4CxL",
        "colab_type": "code",
        "colab": {}
      },
      "cell_type": "code",
      "source": [
        "album_set2.difference(album_set1)  "
      ],
      "execution_count": 0,
      "outputs": []
    },
    {
      "metadata": {
        "id": "AGm_1CZF4CxO",
        "colab_type": "text"
      },
      "cell_type": "markdown",
      "source": [
        "<img src = \"https://s3-api.us-geo.objectstorage.softlayer.net/cf-courses-data/CognitiveClass/PY0101EN/Chapter%202/Images/SetsRight.png\" width=\"650\" />"
      ]
    },
    {
      "metadata": {
        "id": "k7uhKVl74CxO",
        "colab_type": "text"
      },
      "cell_type": "markdown",
      "source": [
        "You can also find the intersection of <code>album_list1</code> and <code>album_list2</code>, using the <code>intersection</code> method:"
      ]
    },
    {
      "metadata": {
        "id": "HNHJHTSO4CxQ",
        "colab_type": "code",
        "colab": {}
      },
      "cell_type": "code",
      "source": [
        "# Use intersection method to find the intersection of album_list1 and album_list2\n",
        "\n",
        "album_set1.intersection(album_set2)   "
      ],
      "execution_count": 0,
      "outputs": []
    },
    {
      "metadata": {
        "id": "rul596zo4CxT",
        "colab_type": "text"
      },
      "cell_type": "markdown",
      "source": [
        " This corresponds to the intersection of the two circles:"
      ]
    },
    {
      "metadata": {
        "id": "gYD0pAiO4CxU",
        "colab_type": "text"
      },
      "cell_type": "markdown",
      "source": [
        "<img src=\"https://s3-api.us-geo.objectstorage.softlayer.net/cf-courses-data/CognitiveClass/PY0101EN/Chapter%202/Images/SetsIntersect.png\" width=\"650\" />"
      ]
    },
    {
      "metadata": {
        "id": "AAZg44TP4CxU",
        "colab_type": "text"
      },
      "cell_type": "markdown",
      "source": [
        "The union corresponds to all the elements in both sets, which is represented by coloring both circles:"
      ]
    },
    {
      "metadata": {
        "id": "U9Vs-iSC4CxV",
        "colab_type": "text"
      },
      "cell_type": "markdown",
      "source": [
        "<img src = \"https://s3-api.us-geo.objectstorage.softlayer.net/cf-courses-data/CognitiveClass/PY0101EN/Chapter%202/Images/SetsUnion.png\" />"
      ]
    },
    {
      "metadata": {
        "id": "5D3KqVjH4CxW",
        "colab_type": "text"
      },
      "cell_type": "markdown",
      "source": [
        " The union is given by:"
      ]
    },
    {
      "metadata": {
        "jupyter": {
          "outputs_hidden": true
        },
        "id": "6GKmsUib4CxX",
        "colab_type": "code",
        "colab": {}
      },
      "cell_type": "code",
      "source": [
        "# Find the union of two sets\n",
        "\n",
        "album_set1.union(album_set2)"
      ],
      "execution_count": 0,
      "outputs": []
    },
    {
      "metadata": {
        "id": "4BxBRoSy4CxZ",
        "colab_type": "text"
      },
      "cell_type": "markdown",
      "source": [
        "And you can check if a set is a superset or subset of another set, respectively, like this:"
      ]
    },
    {
      "metadata": {
        "id": "SHebOFyp4Cxa",
        "colab_type": "code",
        "colab": {}
      },
      "cell_type": "code",
      "source": [
        "# Check if superset\n",
        "\n",
        "set(album_set1).issuperset(album_set2)   "
      ],
      "execution_count": 0,
      "outputs": []
    },
    {
      "metadata": {
        "id": "LXQpllSx4Cxb",
        "colab_type": "code",
        "colab": {}
      },
      "cell_type": "code",
      "source": [
        "# Check if subset\n",
        "\n",
        "set(album_set2).issubset(album_set1)     "
      ],
      "execution_count": 0,
      "outputs": []
    },
    {
      "metadata": {
        "id": "kOOQpKYm4Cxe",
        "colab_type": "text"
      },
      "cell_type": "markdown",
      "source": [
        "Here is an example where <code>issubset()</code> and <code>issuperset()</code> return true:"
      ]
    },
    {
      "metadata": {
        "id": "FUvjI-GX4Cxf",
        "colab_type": "code",
        "colab": {}
      },
      "cell_type": "code",
      "source": [
        "# Check if subset\n",
        "\n",
        "set({\"Back in Black\", \"AC/DC\"}).issubset(album_set1) "
      ],
      "execution_count": 0,
      "outputs": []
    },
    {
      "metadata": {
        "id": "vRYPhqaC4Cxi",
        "colab_type": "code",
        "colab": {}
      },
      "cell_type": "code",
      "source": [
        "# Check if superset\n",
        "\n",
        "album_set1.issuperset({\"Back in Black\", \"AC/DC\"})   "
      ],
      "execution_count": 0,
      "outputs": []
    },
    {
      "metadata": {
        "id": "naJFLXt74Cxl",
        "colab_type": "text"
      },
      "cell_type": "markdown",
      "source": [
        "<hr>"
      ]
    },
    {
      "metadata": {
        "id": "oCvbINJa4Cxm",
        "colab_type": "text"
      },
      "cell_type": "markdown",
      "source": [
        "<h2 id=\"quiz\">Quiz on Sets</h2>"
      ]
    },
    {
      "metadata": {
        "id": "BHLrErMx4Cxn",
        "colab_type": "text"
      },
      "cell_type": "markdown",
      "source": [
        "Convert the list <code>['rap','house','electronic music', 'rap']</code> to a set:"
      ]
    },
    {
      "metadata": {
        "id": "xV1Ns7dH4Cxn",
        "colab_type": "code",
        "colab": {}
      },
      "cell_type": "code",
      "source": [
        "# Write your code below and press Shift+Enter to execute"
      ],
      "execution_count": 0,
      "outputs": []
    },
    {
      "metadata": {
        "id": "KqArjY444Cxq",
        "colab_type": "text"
      },
      "cell_type": "markdown",
      "source": [
        "<hr>"
      ]
    },
    {
      "metadata": {
        "id": "QN40shLx4Cxq",
        "colab_type": "text"
      },
      "cell_type": "markdown",
      "source": [
        "Consider the list <code>A = [1, 2, 2, 1]</code> and set <code>B = set([1, 2, 2, 1])</code>, does <code>sum(A) = sum(B)</code> "
      ]
    },
    {
      "metadata": {
        "id": "dP-YYNe04Cxr",
        "colab_type": "code",
        "colab": {}
      },
      "cell_type": "code",
      "source": [
        "# Write your code below and press Shift+Enter to execute"
      ],
      "execution_count": 0,
      "outputs": []
    },
    {
      "metadata": {
        "id": "Z8BjZCn04Cxt",
        "colab_type": "text"
      },
      "cell_type": "markdown",
      "source": [
        "<hr>"
      ]
    },
    {
      "metadata": {
        "id": "lC1RAhb44Cxu",
        "colab_type": "text"
      },
      "cell_type": "markdown",
      "source": [
        "Create a new set <code>album_set3</code> that is the union of <code>album_set1</code> and <code>album_set2</code>:"
      ]
    },
    {
      "metadata": {
        "id": "QL9pmzWs4Cxv",
        "colab_type": "code",
        "colab": {}
      },
      "cell_type": "code",
      "source": [
        "# Write your code below and press Shift+Enter to execute\n",
        "\n",
        "album_set1 = set([\"Thriller\", 'AC/DC', 'Back in Black'])\n",
        "album_set2 = set([ \"AC/DC\", \"Back in Black\", \"The Dark Side of the Moon\"])"
      ],
      "execution_count": 0,
      "outputs": []
    },
    {
      "metadata": {
        "id": "-cFhNOtP4Cx0",
        "colab_type": "text"
      },
      "cell_type": "markdown",
      "source": [
        "<hr>"
      ]
    },
    {
      "metadata": {
        "id": "tvhT9lWi4Cx2",
        "colab_type": "text"
      },
      "cell_type": "markdown",
      "source": [
        "Find out if <code>album_set1</code> is a subset of <code>album_set3</code>:"
      ]
    },
    {
      "metadata": {
        "id": "oQxnW2o24Cx8",
        "colab_type": "code",
        "colab": {}
      },
      "cell_type": "code",
      "source": [
        "# Write your code below and press Shift+Enter to execute"
      ],
      "execution_count": 0,
      "outputs": []
    },
    {
      "metadata": {
        "id": "o4CU3Hl34Gvi",
        "colab_type": "code",
        "colab": {}
      },
      "cell_type": "code",
      "source": [
        ""
      ],
      "execution_count": 0,
      "outputs": []
    },
    {
      "metadata": {
        "id": "fr3W6ijd4CyA",
        "colab_type": "text"
      },
      "cell_type": "markdown",
      "source": [
        "<hr>"
      ]
    }
  ]
}