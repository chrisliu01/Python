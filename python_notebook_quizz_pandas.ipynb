{
  "nbformat": 4,
  "nbformat_minor": 0,
  "metadata": {
    "colab": {
      "name": "python_notebook_quizz_pandas.ipynb",
      "version": "0.3.2",
      "provenance": [],
      "collapsed_sections": [],
      "include_colab_link": true
    },
    "kernelspec": {
      "display_name": "Python 3",
      "language": "python",
      "name": "python3"
    }
  },
  "cells": [
    {
      "cell_type": "markdown",
      "metadata": {
        "id": "view-in-github",
        "colab_type": "text"
      },
      "source": [
        "<a href=\"https://colab.research.google.com/github/chrisliu01/Python/blob/master/python_notebook_quizz_pandas.ipynb\" target=\"_parent\"><img src=\"https://colab.research.google.com/assets/colab-badge.svg\" alt=\"Open In Colab\"/></a>"
      ]
    },
    {
      "metadata": {
        "id": "DwIcUONW1qkY",
        "colab_type": "text"
      },
      "cell_type": "markdown",
      "source": [
        "<h3> Get to Know a Pandas Array </h3>"
      ]
    },
    {
      "metadata": {
        "id": "BeJ7gDgP1qka",
        "colab_type": "text"
      },
      "cell_type": "markdown",
      "source": [
        "You will use the dataframe <code>df</code> for the following:"
      ]
    },
    {
      "metadata": {
        "id": "l1_cYfGH1qkb",
        "colab_type": "code",
        "colab": {}
      },
      "cell_type": "code",
      "source": [
        "import pandas as pd\n",
        "\n",
        "df=pd.DataFrame({'a':[1,2,1],'b':[1,1,1]})"
      ],
      "execution_count": 0,
      "outputs": []
    },
    {
      "metadata": {
        "id": "iusYYBx41qkf",
        "colab_type": "text"
      },
      "cell_type": "markdown",
      "source": [
        "1) find the unique values in column <code> 'a' </code>:"
      ]
    },
    {
      "metadata": {
        "id": "7fNth3Qb1qkg",
        "colab_type": "code",
        "colab": {}
      },
      "cell_type": "code",
      "source": [
        ""
      ],
      "execution_count": 0,
      "outputs": []
    },
    {
      "metadata": {
        "id": "388Ojlnz1qki",
        "colab_type": "text"
      },
      "cell_type": "markdown",
      "source": [
        "2) return a dataframe with only the rows where column <code> a </code> is less than two "
      ]
    },
    {
      "metadata": {
        "id": "1LWNOBV41qkj",
        "colab_type": "code",
        "colab": {}
      },
      "cell_type": "code",
      "source": [
        ""
      ],
      "execution_count": 0,
      "outputs": []
    }
  ]
}