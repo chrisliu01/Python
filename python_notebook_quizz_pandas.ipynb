{
  "nbformat": 4,
  "nbformat_minor": 0,
  "metadata": {
    "colab": {
      "name": "python_notebook_quizz_pandas.ipynb",
      "version": "0.3.2",
      "provenance": [],
      "collapsed_sections": [],
      "include_colab_link": true
    },
    "kernelspec": {
      "display_name": "Python 3",
      "language": "python",
      "name": "python3"
    }
  },
  "cells": [
    {
      "cell_type": "markdown",
      "metadata": {
        "id": "view-in-github",
        "colab_type": "text"
      },
      "source": [
        "<a href=\"https://colab.research.google.com/github/chrisliu01/Python/blob/master/python_notebook_quizz_pandas.ipynb\" target=\"_parent\"><img src=\"https://colab.research.google.com/assets/colab-badge.svg\" alt=\"Open In Colab\"/></a>"
      ]
    },
    {
      "metadata": {
        "id": "DwIcUONW1qkY",
        "colab_type": "text"
      },
      "cell_type": "markdown",
      "source": [
        "<h3> Practice Mysql DB Connection</h3>"
      ]
    },
    {
      "metadata": {
        "id": "l1_cYfGH1qkb",
        "colab_type": "code",
        "colab": {}
      },
      "cell_type": "code",
      "source": [
        "!python -m pip install mysql-connector"
      ],
      "execution_count": 0,
      "outputs": []
    },
    {
      "metadata": {
        "id": "7fNth3Qb1qkg",
        "colab_type": "code",
        "colab": {}
      },
      "cell_type": "code",
      "source": [
        "import mysql.connector"
      ],
      "execution_count": 0,
      "outputs": []
    },
    {
      "metadata": {
        "id": "388Ojlnz1qki",
        "colab_type": "text"
      },
      "cell_type": "markdown",
      "source": [
        "2) return a dataframe with only the rows where column <code> a </code> is less than two "
      ]
    },
    {
      "metadata": {
        "id": "1LWNOBV41qkj",
        "colab_type": "code",
        "colab": {}
      },
      "cell_type": "code",
      "source": [
        "mydb = mysql.connector.connect(\n",
        "  host=\"db4free.net\",\n",
        "  user=\"csci2133_gang\",\n",
        "  passwd=\"12345678\",\n",
        "  database=\"csci2133_login\"\n",
        ")\n",
        "\n",
        "print(mydb)\n"
      ],
      "execution_count": 0,
      "outputs": []
    },
    {
      "metadata": {
        "id": "ki0K18QG_77f",
        "colab_type": "code",
        "colab": {}
      },
      "cell_type": "code",
      "source": [
        "mycursor = mydb.cursor()\n",
        "\n",
        "mycursor.execute(\"CREATE TABLE customers (name VARCHAR(255), address VARCHAR(255))\")"
      ],
      "execution_count": 0,
      "outputs": []
    },
    {
      "metadata": {
        "id": "t_w6N-nFBtMl",
        "colab_type": "code",
        "colab": {}
      },
      "cell_type": "code",
      "source": [
        "mycursor = mydb.cursor()\n",
        "\n",
        "mycursor.execute(\"SELECT * FROM customers\")\n",
        "\n",
        "myresult = mycursor.fetchall()\n",
        "\n",
        "for x in myresult:\n",
        "  print(x)"
      ],
      "execution_count": 0,
      "outputs": []
    },
    {
      "metadata": {
        "id": "Kq0gVsuqAjd1",
        "colab_type": "text"
      },
      "cell_type": "markdown",
      "source": [
        "Question 1: Look at the example above, create another table called your \"table_\" with your banner_ID.  Table should contain three column (name varchar, email varchar and address varchar )"
      ]
    },
    {
      "metadata": {
        "id": "MyE4wYTnA-oe",
        "colab_type": "code",
        "colab": {}
      },
      "cell_type": "code",
      "source": [
        ""
      ],
      "execution_count": 0,
      "outputs": []
    },
    {
      "metadata": {
        "id": "0xGMvniuA_T2",
        "colab_type": "text"
      },
      "cell_type": "markdown",
      "source": [
        "Question 2: Insert three dummy records into your table;"
      ]
    },
    {
      "metadata": {
        "id": "aH-JS0QtBbFu",
        "colab_type": "code",
        "colab": {}
      },
      "cell_type": "code",
      "source": [
        ""
      ],
      "execution_count": 0,
      "outputs": []
    },
    {
      "metadata": {
        "id": "QcSd3IDqBbjm",
        "colab_type": "text"
      },
      "cell_type": "markdown",
      "source": [
        "Question 3: Select one record from your table, and convert it into dataframe. Then display it."
      ]
    },
    {
      "metadata": {
        "id": "gYJHcvd_Bju1",
        "colab_type": "code",
        "colab": {}
      },
      "cell_type": "code",
      "source": [
        ""
      ],
      "execution_count": 0,
      "outputs": []
    }
  ]
}