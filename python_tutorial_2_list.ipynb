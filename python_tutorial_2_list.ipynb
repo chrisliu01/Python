{
  "nbformat": 4,
  "nbformat_minor": 0,
  "metadata": {
    "colab": {
      "name": "python-basic-data-type.ipynb",
      "version": "0.3.2",
      "provenance": [],
      "collapsed_sections": [],
      "include_colab_link": true
    },
    "kernelspec": {
      "name": "python3",
      "display_name": "Python 3"
    }
  },
  "cells": [
    {
      "cell_type": "markdown",
      "metadata": {
        "id": "view-in-github",
        "colab_type": "text"
      },
      "source": [
        "<a href=\"https://colab.research.google.com/github/chrisliu01/Python/blob/master/python_tutorial_2.ipynb\" target=\"_parent\"><img src=\"https://colab.research.google.com/assets/colab-badge.svg\" alt=\"Open In Colab\"/></a>"
      ]
    },
    {
      "metadata": {
        "id": "NTpgrXEz4623",
        "colab_type": "text"
      },
      "cell_type": "markdown",
      "source": [
        "# **Python Collections (Arrays)**\n",
        "There are four collection data types in the Python programming language:\n",
        "\n",
        "\n",
        "List is a collection which is ordered and changeable. Allows duplicate members.\n",
        "\n",
        "Tuple is a collection which is ordered and unchangeable. Allows duplicate members.\n",
        "\n",
        "Set is a collection which is unordered and unindexed. No duplicate members.\n",
        "\n",
        "Dictionary is a collection which is unordered, changeable and indexed. No duplicate members.\n",
        "\n",
        "When choosing a collection type, it is useful to understand the properties of that type. Choosing the right type for a particular data set could mean retention of meaning, and, it could mean an increase in efficiency or security.\n",
        "\n",
        "\n",
        "**List**\n",
        "\n",
        "A list is a collection which is ordered and changeable. In Python lists are written with square brackets.\n",
        "\n"
      ]
    },
    {
      "metadata": {
        "id": "qRPT5NNj5CMd",
        "colab_type": "code",
        "colab": {
          "base_uri": "https://localhost:8080/",
          "height": 35
        },
        "outputId": "371cf500-9519-4f5b-e617-ed0af992f9e6"
      },
      "cell_type": "code",
      "source": [
        "thislist = [\"apple\", \"banana\", \"cherry\"]\n",
        "print(thislist)"
      ],
      "execution_count": 1,
      "outputs": [
        {
          "output_type": "stream",
          "text": [
            "['apple', 'banana', 'cherry']\n"
          ],
          "name": "stdout"
        }
      ]
    },
    {
      "metadata": {
        "id": "4wzs2ANP7in9",
        "colab_type": "text"
      },
      "cell_type": "markdown",
      "source": [
        "**Access Items**\n",
        "\n",
        "You access the list items by referring to the index number:\n"
      ]
    },
    {
      "metadata": {
        "id": "RzUf7o_97otl",
        "colab_type": "code",
        "outputId": "6046c183-ccfa-42db-a1c7-c4c2ae8d053f",
        "colab": {
          "base_uri": "https://localhost:8080/",
          "height": 35
        }
      },
      "cell_type": "code",
      "source": [
        "thislist = [\"apple\", \"banana\", \"cherry\"]\n",
        "print(thislist[1])"
      ],
      "execution_count": 2,
      "outputs": [
        {
          "output_type": "stream",
          "text": [
            "banana\n"
          ],
          "name": "stdout"
        }
      ]
    },
    {
      "metadata": {
        "id": "3hQf3HA9aQQ2",
        "colab_type": "text"
      },
      "cell_type": "markdown",
      "source": [
        "**Change Item Value**\n",
        "\n",
        "To change the value of a specific item, refer to the index number:\n"
      ]
    },
    {
      "metadata": {
        "id": "Q_WLV7Ua7zyd",
        "colab_type": "code",
        "outputId": "a3863df5-4419-4b08-a6fb-e8c74a9bfdc4",
        "colab": {
          "base_uri": "https://localhost:8080/",
          "height": 35
        }
      },
      "cell_type": "code",
      "source": [
        "thislist = [\"apple\", \"banana\", \"cherry\"]\n",
        "thislist[1] = \"blackcurrant\"\n",
        "print(thislist)"
      ],
      "execution_count": 3,
      "outputs": [
        {
          "output_type": "stream",
          "text": [
            "['apple', 'blackcurrant', 'cherry']\n"
          ],
          "name": "stdout"
        }
      ]
    },
    {
      "metadata": {
        "id": "F1JncQa1771t",
        "colab_type": "text"
      },
      "cell_type": "markdown",
      "source": [
        "**Loop Through a List**\n",
        "\n",
        "You can loop through the list items by using a for loop:\n"
      ]
    },
    {
      "metadata": {
        "id": "blRNVueg8HRN",
        "colab_type": "code",
        "colab": {
          "base_uri": "https://localhost:8080/",
          "height": 70
        },
        "outputId": "1bf92e60-ab52-4019-bc25-864c6e41823a"
      },
      "cell_type": "code",
      "source": [
        "thislist = [\"apple\", \"banana\", \"cherry\"]\n",
        "for x in thislist:\n",
        "  print(x)"
      ],
      "execution_count": 4,
      "outputs": [
        {
          "output_type": "stream",
          "text": [
            "apple\n",
            "banana\n",
            "cherry\n"
          ],
          "name": "stdout"
        }
      ]
    },
    {
      "metadata": {
        "id": "rBGnIlC_8bgV",
        "colab_type": "text"
      },
      "cell_type": "markdown",
      "source": [
        "**Check if Item Exists**\n",
        "\n",
        "To determine if a specified item is present in a list use the in keyword:\n"
      ]
    },
    {
      "metadata": {
        "id": "BJfxDoXL8jId",
        "colab_type": "code",
        "colab": {
          "base_uri": "https://localhost:8080/",
          "height": 35
        },
        "outputId": "387215f3-8d46-4e09-edac-8d3d7e4af8c8"
      },
      "cell_type": "code",
      "source": [
        "thislist = [\"apple\", \"banana\", \"cherry\"]\n",
        "if \"apple\" in thislist:\n",
        "  print(\"Yes, 'apple' is in the fruits list\")"
      ],
      "execution_count": 7,
      "outputs": [
        {
          "output_type": "stream",
          "text": [
            "Yes, 'apple' is in the fruits list\n"
          ],
          "name": "stdout"
        }
      ]
    },
    {
      "metadata": {
        "id": "MIXardVZ89o9",
        "colab_type": "text"
      },
      "cell_type": "markdown",
      "source": [
        "**Add Items**\n",
        "\n",
        "To add an item to the end of the list, use the append() method:\n",
        "\n"
      ]
    },
    {
      "metadata": {
        "id": "keN1lv-A9Dku",
        "colab_type": "code",
        "outputId": "4b76e7bd-2119-4db2-dfba-5f3a148bd7f7",
        "colab": {
          "base_uri": "https://localhost:8080/",
          "height": 35
        }
      },
      "cell_type": "code",
      "source": [
        "thislist = [\"apple\", \"banana\", \"cherry\"]\n",
        "thislist.append(\"orange\")\n",
        "print(thislist)"
      ],
      "execution_count": 8,
      "outputs": [
        {
          "output_type": "stream",
          "text": [
            "['apple', 'banana', 'cherry', 'orange']\n"
          ],
          "name": "stdout"
        }
      ]
    },
    {
      "metadata": {
        "id": "F4v-Aadra-fr",
        "colab_type": "text"
      },
      "cell_type": "markdown",
      "source": [
        "To add an item at the specified index, use the insert() method:"
      ]
    },
    {
      "metadata": {
        "id": "94cFM92G9HL9",
        "colab_type": "code",
        "outputId": "7562139a-5ee6-476f-a06c-4d9417fedd06",
        "colab": {
          "base_uri": "https://localhost:8080/",
          "height": 35
        }
      },
      "cell_type": "code",
      "source": [
        "thislist = [\"apple\", \"banana\", \"cherry\"]\n",
        "thislist.insert(1, \"orange\")\n",
        "print(thislist)"
      ],
      "execution_count": 9,
      "outputs": [
        {
          "output_type": "stream",
          "text": [
            "['apple', 'orange', 'banana', 'cherry']\n"
          ],
          "name": "stdout"
        }
      ]
    },
    {
      "metadata": {
        "id": "kh0LuRulbIHl",
        "colab_type": "text"
      },
      "cell_type": "markdown",
      "source": [
        "**Remove Item**\n",
        "\n",
        "There are several methods to remove items from a list:\n"
      ]
    },
    {
      "metadata": {
        "id": "teVaQE7b9NKt",
        "colab_type": "code",
        "outputId": "8058d5ca-ce80-4fcd-8b38-e9766c05e90a",
        "colab": {
          "base_uri": "https://localhost:8080/",
          "height": 35
        }
      },
      "cell_type": "code",
      "source": [
        "thislist = [\"apple\", \"banana\", \"cherry\"]\n",
        "thislist.remove(\"banana\")\n",
        "print(thislist)"
      ],
      "execution_count": 10,
      "outputs": [
        {
          "output_type": "stream",
          "text": [
            "['apple', 'cherry']\n"
          ],
          "name": "stdout"
        }
      ]
    },
    {
      "metadata": {
        "id": "3MTx2SDgbXef",
        "colab_type": "text"
      },
      "cell_type": "markdown",
      "source": [
        "# **Exercise:**\n",
        "\n",
        "Print the second item in the fruits list."
      ]
    },
    {
      "metadata": {
        "id": "K4S8a74E9Obd",
        "colab_type": "code",
        "outputId": "ea5b412c-98af-41a9-c1a2-910529715341",
        "colab": {
          "base_uri": "https://localhost:8080/",
          "height": 35
        }
      },
      "cell_type": "code",
      "source": [
        "fruits = [\"apple\", \"banana\", \"cherry\"]\n",
        "print(?????)"
      ],
      "execution_count": 0,
      "outputs": [
        {
          "output_type": "execute_result",
          "data": {
            "text/plain": [
              "0.75"
            ]
          },
          "metadata": {
            "tags": []
          },
          "execution_count": 10
        }
      ]
    },
    {
      "metadata": {
        "id": "bJ8fiCE0-ig3",
        "colab_type": "code",
        "colab": {}
      },
      "cell_type": "code",
      "source": [
        ""
      ],
      "execution_count": 0,
      "outputs": []
    }
  ]
}
