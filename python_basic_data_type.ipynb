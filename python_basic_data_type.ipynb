{
  "nbformat": 4,
  "nbformat_minor": 0,
  "metadata": {
    "colab": {
      "name": "python-basic-data-type.ipynb",
      "version": "0.3.2",
      "provenance": [],
      "collapsed_sections": [],
      "include_colab_link": true
    },
    "kernelspec": {
      "name": "python3",
      "display_name": "Python 3"
    }
  },
  "cells": [
    {
      "cell_type": "markdown",
      "metadata": {
        "id": "view-in-github",
        "colab_type": "text"
      },
      "source": [
        "<a href=\"https://colab.research.google.com/github/chrisliu01/Python/blob/master/python_basic_data_type.ipynb\" target=\"_parent\"><img src=\"https://colab.research.google.com/assets/colab-badge.svg\" alt=\"Open In Colab\"/></a>"
      ]
    },
    {
      "metadata": {
        "id": "NTpgrXEz4623",
        "colab_type": "text"
      },
      "cell_type": "markdown",
      "source": [
        "\n",
        "# **Python Basics 1: Variables and Data types**\n",
        "In Python we like to assign values to variables. Why? Because it makes our code better — more flexible, reusable and understandable. At the same time one of the trickiest things in coding is exactly this “assignment concept.” When we refer to something, that refers to something, that refers to something… well, understanding that needs some brain capacity. But don’t you worry, you will get used to it – and you will love it!\n",
        "\n",
        "\n",
        "**Let’s see how it works!**\n",
        "\n",
        "Say we have a dog (‘Freddie’), and we would like to store some of his attributes (name, age, is_vaccinated, year_of_born, etc.) of this dog in Python variables! We will type this into a Jupyter notebook cell:\n",
        "\n",
        "dog_name = 'Freddie'\n",
        "\n",
        "age = 9\n",
        "\n",
        "is_vaccinated = True\n",
        "\n",
        "height = 1.1\n",
        "\n",
        "birth_year = 2001\n"
      ]
    },
    {
      "metadata": {
        "id": "qRPT5NNj5CMd",
        "colab_type": "code",
        "colab": {}
      },
      "cell_type": "code",
      "source": [
        "dog_name = 'Freddie'\n",
        "\n",
        "age = 9\n",
        "\n",
        "is_vaccinated = True\n",
        "\n",
        "height = 1.1\n",
        "\n",
        "birth_year = 2001"
      ],
      "execution_count": 0,
      "outputs": []
    },
    {
      "metadata": {
        "id": "4wzs2ANP7in9",
        "colab_type": "text"
      },
      "cell_type": "markdown",
      "source": [
        "*Note: we could have done this one per cell. But this all-in-one solution was easier and more elegant.*\n",
        "\n",
        "From now on, if we type these variables, the assigned values will be returned:"
      ]
    },
    {
      "metadata": {
        "id": "RzUf7o_97otl",
        "colab_type": "code",
        "colab": {
          "base_uri": "https://localhost:8080/",
          "height": 35
        },
        "outputId": "f34c3748-1acb-4d7f-ee89-ea54cfefccef"
      },
      "cell_type": "code",
      "source": [
        "dog_name"
      ],
      "execution_count": 2,
      "outputs": [
        {
          "output_type": "execute_result",
          "data": {
            "text/plain": [
              "'Freddie'"
            ]
          },
          "metadata": {
            "tags": []
          },
          "execution_count": 2
        }
      ]
    },
    {
      "metadata": {
        "id": "Q_WLV7Ua7zyd",
        "colab_type": "code",
        "colab": {
          "base_uri": "https://localhost:8080/",
          "height": 35
        },
        "outputId": "1a994bbc-b8c4-4a6e-a07a-3be8bfc255ca"
      },
      "cell_type": "code",
      "source": [
        "age"
      ],
      "execution_count": 3,
      "outputs": [
        {
          "output_type": "execute_result",
          "data": {
            "text/plain": [
              "9"
            ]
          },
          "metadata": {
            "tags": []
          },
          "execution_count": 3
        }
      ]
    },
    {
      "metadata": {
        "id": "F1JncQa1771t",
        "colab_type": "text"
      },
      "cell_type": "markdown",
      "source": [
        "Just like in SQL, in Python we have different data types.\n",
        "\n",
        "\n",
        "For instance the dog_name variable holds a string: 'Freddie'. In Python 3 a string is a sequence of Unicode characters (eg. numbers, letters, punctuation, etc.), so it can have numbers or exclamation marks or almost anything (eg. ‘R2-D2’ is a valid string). In Python it’s super easy to identify a string as it’s usually between quotation marks.\n",
        "\n",
        "The age and the birth_year variables store integers (9 and 2001), which is a numeric Python data type. Another numeric data type is float, in our example: height, which is 1.1.\n",
        "\n",
        "The is_vaccinated’s True value is a so called Boolean value. Booleans can be only True or False."
      ]
    },
    {
      "metadata": {
        "id": "blRNVueg8HRN",
        "colab_type": "code",
        "colab": {}
      },
      "cell_type": "code",
      "source": [
        "dog_name = 'Eddie'"
      ],
      "execution_count": 0,
      "outputs": []
    },
    {
      "metadata": {
        "id": "5b4VtE_N8K59",
        "colab_type": "code",
        "colab": {
          "base_uri": "https://localhost:8080/",
          "height": 35
        },
        "outputId": "4b349b31-78e8-4d9a-c108-de850c6992bb"
      },
      "cell_type": "code",
      "source": [
        "dog_name"
      ],
      "execution_count": 5,
      "outputs": [
        {
          "output_type": "execute_result",
          "data": {
            "text/plain": [
              "'Eddie'"
            ]
          },
          "metadata": {
            "tags": []
          },
          "execution_count": 5
        }
      ]
    },
    {
      "metadata": {
        "id": "rBGnIlC_8bgV",
        "colab_type": "text"
      },
      "cell_type": "markdown",
      "source": [
        "# **Python Variables – Basic Operators**\n",
        "\n",
        "You have just learned about variables. It’s time to play around with them!\n",
        "Let’s define two new variables a and b:\n",
        "\n",
        "\n",
        "a = 3\n",
        "\n",
        "b = 4"
      ]
    },
    {
      "metadata": {
        "id": "BJfxDoXL8jId",
        "colab_type": "code",
        "colab": {}
      },
      "cell_type": "code",
      "source": [
        "a = 3\n",
        "b = 4"
      ],
      "execution_count": 0,
      "outputs": []
    },
    {
      "metadata": {
        "id": "MIXardVZ89o9",
        "colab_type": "text"
      },
      "cell_type": "markdown",
      "source": [
        "What we can do with a and b? Well, first of all, a bunch of basic arithmetical operations! It’s nothing special, you could have found out these by common sense, but just in case, here’s the list:\n",
        "\n",
        "\n",
        "Operator\tWhat does it do?\tResult in our example\n",
        "\n",
        "a + b\tAdds a to b\t7\n",
        "\n",
        "a - b\tSubtract b from a\t-1\n",
        "\n",
        "a * b\tMultiply a by b\t12\n",
        "\n",
        "a / b\tDivide a by b\t0.75\n",
        "\n",
        "b % a\tDivides b by a and returns remainder\t1\n",
        "\n",
        "a ** b\ta raised to the power of b\t81\n",
        "\n",
        "And how it looks in Jupyter:\n"
      ]
    },
    {
      "metadata": {
        "id": "keN1lv-A9Dku",
        "colab_type": "code",
        "colab": {
          "base_uri": "https://localhost:8080/",
          "height": 35
        },
        "outputId": "0098179d-551d-4f64-e44f-fad7eef3e3c6"
      },
      "cell_type": "code",
      "source": [
        "a+b"
      ],
      "execution_count": 7,
      "outputs": [
        {
          "output_type": "execute_result",
          "data": {
            "text/plain": [
              "7"
            ]
          },
          "metadata": {
            "tags": []
          },
          "execution_count": 7
        }
      ]
    },
    {
      "metadata": {
        "id": "94cFM92G9HL9",
        "colab_type": "code",
        "colab": {
          "base_uri": "https://localhost:8080/",
          "height": 35
        },
        "outputId": "62bdfee5-42da-45c7-b4ac-df4d76246967"
      },
      "cell_type": "code",
      "source": [
        "a-b"
      ],
      "execution_count": 8,
      "outputs": [
        {
          "output_type": "execute_result",
          "data": {
            "text/plain": [
              "-1"
            ]
          },
          "metadata": {
            "tags": []
          },
          "execution_count": 8
        }
      ]
    },
    {
      "metadata": {
        "id": "teVaQE7b9NKt",
        "colab_type": "code",
        "colab": {
          "base_uri": "https://localhost:8080/",
          "height": 35
        },
        "outputId": "a4f3e0f2-e703-4288-aa5a-2feaac534272"
      },
      "cell_type": "code",
      "source": [
        "a*b"
      ],
      "execution_count": 9,
      "outputs": [
        {
          "output_type": "execute_result",
          "data": {
            "text/plain": [
              "12"
            ]
          },
          "metadata": {
            "tags": []
          },
          "execution_count": 9
        }
      ]
    },
    {
      "metadata": {
        "id": "K4S8a74E9Obd",
        "colab_type": "code",
        "colab": {
          "base_uri": "https://localhost:8080/",
          "height": 35
        },
        "outputId": "ea5b412c-98af-41a9-c1a2-910529715341"
      },
      "cell_type": "code",
      "source": [
        "a/b"
      ],
      "execution_count": 10,
      "outputs": [
        {
          "output_type": "execute_result",
          "data": {
            "text/plain": [
              "0.75"
            ]
          },
          "metadata": {
            "tags": []
          },
          "execution_count": 10
        }
      ]
    },
    {
      "metadata": {
        "id": "_BMzPGIe9Qde",
        "colab_type": "text"
      },
      "cell_type": "markdown",
      "source": [
        "Operator\tWhat does it do?\tResult in our example\n",
        "\n",
        "a > b\tEvaluate if a is greater than b\tFalse\n",
        "\n",
        "a < b\tEvaluate if a is less than b\tTrue\n",
        "\n",
        "a == b\tEvaluate if a equals b\tFalse\n",
        "\n",
        "**In the notebook:**"
      ]
    },
    {
      "metadata": {
        "id": "zPE-sQEw9Zad",
        "colab_type": "code",
        "colab": {
          "base_uri": "https://localhost:8080/",
          "height": 35
        },
        "outputId": "63a0da20-18b3-42bd-c9b8-514a69aeb68f"
      },
      "cell_type": "code",
      "source": [
        "a>b"
      ],
      "execution_count": 11,
      "outputs": [
        {
          "output_type": "execute_result",
          "data": {
            "text/plain": [
              "False"
            ]
          },
          "metadata": {
            "tags": []
          },
          "execution_count": 11
        }
      ]
    },
    {
      "metadata": {
        "id": "0LBtHQic9bFW",
        "colab_type": "code",
        "colab": {
          "base_uri": "https://localhost:8080/",
          "height": 35
        },
        "outputId": "5bd3a9b8-e7ee-41af-ddc5-c8f05f35d277"
      },
      "cell_type": "code",
      "source": [
        "a<b"
      ],
      "execution_count": 12,
      "outputs": [
        {
          "output_type": "execute_result",
          "data": {
            "text/plain": [
              "True"
            ]
          },
          "metadata": {
            "tags": []
          },
          "execution_count": 12
        }
      ]
    },
    {
      "metadata": {
        "id": "j1RGpnrO9cXd",
        "colab_type": "code",
        "colab": {
          "base_uri": "https://localhost:8080/",
          "height": 35
        },
        "outputId": "1f89a4c8-cb03-4882-d3e2-c2895b517d93"
      },
      "cell_type": "code",
      "source": [
        "a==b"
      ],
      "execution_count": 13,
      "outputs": [
        {
          "output_type": "execute_result",
          "data": {
            "text/plain": [
              "False"
            ]
          },
          "metadata": {
            "tags": []
          },
          "execution_count": 13
        }
      ]
    }
  ]
}